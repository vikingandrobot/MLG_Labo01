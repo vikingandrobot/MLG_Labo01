{
 "cells": [
  {
   "cell_type": "markdown",
   "metadata": {},
   "source": [
    "# Machine Learning - Practical work 01"
   ]
  },
  {
   "cell_type": "markdown",
   "metadata": {},
   "source": [
    "## 3. Quick numpy introduction"
   ]
  },
  {
   "cell_type": "markdown",
   "metadata": {},
   "source": [
    "### Max of each row and max of each column"
   ]
  },
  {
   "cell_type": "code",
   "execution_count": 28,
   "metadata": {},
   "outputs": [
    {
     "name": "stdout",
     "output_type": "stream",
     "text": [
      "The max of each row is [3 6]\n",
      "The max of each column is [4 5 6]\n"
     ]
    }
   ],
   "source": [
    "import numpy as np\n",
    "\n",
    "array1 = np.array([\n",
    "    [1, 2, 3],\n",
    "    [4, 5, 6]\n",
    "])\n",
    "\n",
    "print(\"The max of each row is {}\".format(np.amax(array1, axis = 1)))\n",
    "print(\"The max of each column is {}\".format(np.amax(array1, axis = 0)))"
   ]
  },
  {
   "cell_type": "markdown",
   "metadata": {},
   "source": [
    "### Print the elements of array1 that are less than 4"
   ]
  },
  {
   "cell_type": "code",
   "execution_count": 31,
   "metadata": {},
   "outputs": [
    {
     "name": "stdout",
     "output_type": "stream",
     "text": [
      "Elements of array1 that are < 4: [1 2 3]\n"
     ]
    }
   ],
   "source": [
    "import numpy as np\n",
    "\n",
    "array1 = np.array([\n",
    "    [1, 2, 3],\n",
    "    [4, 5, 6]\n",
    "])\n",
    "\n",
    "mask = array1 < 4\n",
    "print(\"Elements of array1 that are < 4: {}\".format(array1[mask]))"
   ]
  },
  {
   "cell_type": "markdown",
   "metadata": {},
   "source": [
    "### Convert the values of array2 to the range [0, 1]"
   ]
  },
  {
   "cell_type": "code",
   "execution_count": 34,
   "metadata": {},
   "outputs": [
    {
     "data": {
      "text/plain": [
       "array([0.55555556, 0.88888889, 0.22222222, 1.        , 0.44444444,\n",
       "       0.33333333])"
      ]
     },
     "execution_count": 34,
     "metadata": {},
     "output_type": "execute_result"
    }
   ],
   "source": [
    "array2 = np.array([5, 8, 2, 9, 4, 3])\n",
    "\n",
    "max = np.amax(array2)\n",
    "ranger = np.vectorize(lambda t : t/max)\n",
    "ranger(array2)"
   ]
  },
  {
   "cell_type": "markdown",
   "metadata": {},
   "source": [
    "## 4. Loading a dataset with numpy"
   ]
  },
  {
   "cell_type": "markdown",
   "metadata": {},
   "source": [
    "## 5. Quick Introduction to Pandas"
   ]
  },
  {
   "cell_type": "markdown",
   "metadata": {},
   "source": [
    "### Méthode choisie pour répondre au problème"
   ]
  },
  {
   "cell_type": "markdown",
   "metadata": {},
   "source": [
    "- Nous avons utilisé la méthode groupby de DataFrame pour groupé les données en fonctiond de la colonne 'class'.\n",
    "- Nous n'affichons ensuite que les valeurs liées à la variable 'alcohol'"
   ]
  },
  {
   "cell_type": "code",
   "execution_count": 97,
   "metadata": {},
   "outputs": [
    {
     "name": "stdout",
     "output_type": "stream",
     "text": [
      "       count       mean       std    min     25%     50%     75%    max\n",
      "class                                                                  \n",
      "1       59.0  13.744746  0.462125  12.85  13.400  13.750  14.100  14.83\n",
      "2       71.0  12.278732  0.537964  11.03  11.915  12.290  12.515  13.86\n",
      "3       48.0  13.153750  0.530241  12.20  12.805  13.165  13.505  14.34\n"
     ]
    }
   ],
   "source": [
    "import pandas as pd\n",
    "import numpy as np\n",
    "\n",
    "data = np.genfromtxt('data/wine/wine.data', delimiter=',')\n",
    "colnames = np.array([\n",
    "    'class', 'alcohol', 'malic acid', 'ash', 'alcalinity of ash', 'magnesium', 'total phenols', \n",
    "    'flavanoids', 'nonflavanoid phenols', 'proanthocyanins', 'color intensity', 'hue',\n",
    "    'OD280/OD315 of diluted wines', 'proline'\n",
    "])\n",
    "\n",
    "df = pd.DataFrame(data=data[:,1:], columns=colnames[1:])\n",
    "df['class'] = data[:,0].astype(np.int)\n",
    "\n",
    "print(df.groupby('class').describe()['alcohol'])"
   ]
  },
  {
   "cell_type": "markdown",
   "metadata": {},
   "source": [
    "### Résultats"
   ]
  },
  {
   "cell_type": "markdown",
   "metadata": {},
   "source": [
    "On remarque donc différentes propriétés statistiques des différentes classes de vin. Le tableau ci-dessous résume les informations les plus importantes.\n",
    "\n",
    "| Classe        | % d'alcool en moyenne | Médiane % d'alcool| Max % d'alcool | Min % d'alcool | \n",
    "| ------------- | ------------- | ----- | --- | --- | --- |\n",
    "| 1             | 13.74 | 13.75 | 14.83 | 12.85 |\n",
    "| 2             | 12.28 | 12.29 | 13.86 | 11.03 |\n",
    "| 3             | 13.15 | 13.17 | 14.34 | 12.20 |"
   ]
  }
 ],
 "metadata": {
  "kernelspec": {
   "display_name": "Python 3",
   "language": "python",
   "name": "python3"
  },
  "language_info": {
   "codemirror_mode": {
    "name": "ipython",
    "version": 3
   },
   "file_extension": ".py",
   "mimetype": "text/x-python",
   "name": "python",
   "nbconvert_exporter": "python",
   "pygments_lexer": "ipython3",
   "version": "3.6.3"
  }
 },
 "nbformat": 4,
 "nbformat_minor": 2
}
